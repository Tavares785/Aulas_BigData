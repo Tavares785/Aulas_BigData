{
 "cells": [
  {
   "cell_type": "code",
   "execution_count": null,
   "id": "8b621494",
   "metadata": {},
   "outputs": [],
   "source": [
    "from pyspark.sql import SparkSession\n",
    "\n",
    "print(\"Tentando criar a sessão Spark e conectar ao HDFS...\")\n",
    "# Conecta ao Spark Master e configura o acesso ao HDFS\n",
    "spark = SparkSession.builder \\\n",
    "    .appName(\"SparkHDFS\") \\\n",
    "    .getOrCreate()\n",
    "\n",
    "print(\"Sessão Spark criada com sucesso!\")\n",
    "\n",
    "# --- Teste de Leitura/Escrita no HDFS ---\n",
    "\n",
    "# Cria um pequeno DataFrame\n",
    "data = [(\"Alice\", 10), (\"Bob\", 20), (\"Charlie\", 30)]\n",
    "columns = [\"name\", \"value\"]\n",
    "df = spark.createDataFrame(data, columns)\n",
    "\n",
    "# Define o caminho no HDFS\n",
    "hdfs_path = \"hdfs://namenode:9000/user/spark/data/final_test\"\n",
    "\n",
    "# Escreve o DataFrame no HDFS\n",
    "# O Spark cria o caminho e o arquivo Parquet\n",
    "df.write.mode(\"overwrite\").parquet(hdfs_path)\n",
    "print(f\"Dados escritos no HDFS em: {hdfs_path}\")\n",
    "\n",
    "# Lê os dados de volta para verificar\n",
    "df_read = spark.read.parquet(hdfs_path)\n",
    "print(\"\\nDados lidos do HDFS:\")\n",
    "df_read.show()\n",
    "\n",
    "spark.stop()\n",
    "print(\"Teste concluído. O ambiente Spark/HDFS está funcionando!\")"
   ]
  }
 ],
 "metadata": {
  "language_info": {
   "name": "python"
  }
 },
 "nbformat": 4,
 "nbformat_minor": 5
}
